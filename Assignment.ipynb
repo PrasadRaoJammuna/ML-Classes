{
  "nbformat": 4,
  "nbformat_minor": 0,
  "metadata": {
    "colab": {
      "name": "Assignment.ipynb",
      "version": "0.3.2",
      "provenance": [],
      "include_colab_link": true
    },
    "kernelspec": {
      "name": "python3",
      "display_name": "Python 3"
    }
  },
  "cells": [
    {
      "cell_type": "markdown",
      "metadata": {
        "id": "view-in-github",
        "colab_type": "text"
      },
      "source": [
        "<a href=\"https://colab.research.google.com/github/PrasadRaoJammuna/ML-Classes/blob/master/Assignment.ipynb\" target=\"_parent\"><img src=\"https://colab.research.google.com/assets/colab-badge.svg\" alt=\"Open In Colab\"/></a>"
      ]
    },
    {
      "cell_type": "code",
      "metadata": {
        "id": "0EYIfQpDaITX",
        "colab_type": "code",
        "colab": {}
      },
      "source": [
        "import numpy as np\n",
        "import seaborn as sns\n",
        "import pandas as pd\n",
        "import matplotlib.pyplot as plt\n",
        "from matplotlib import style\n",
        "style.use('fivethirtyeight')\n",
        "  \n",
        "import warnings\n",
        "warnings.filterwarnings('ignore')\n",
        "  \n",
        "%matplotlib inline"
      ],
      "execution_count": 0,
      "outputs": []
    },
    {
      "cell_type": "code",
      "metadata": {
        "id": "KnVfLQzbhN0K",
        "colab_type": "code",
        "colab": {}
      },
      "source": [
        "# GRADED\n",
        "# \n",
        "# (a) Using a for loop, iterate through the list x\n",
        "# and print an item if its divisible by 2 and less than 6\n",
        "# (b) Using a for loop, iterate through the dictionary y\n",
        "# and print a single string of the form \"company, ceo\"\n",
        "# e.g. \"CEO: Apple, Name: Tim Cook\" will be the third entry\n",
        "x = [1, 2, 3, 4, 5, 6, 7, 8, 9, 10]\n",
        "y = {\n",
        "    'Satya Nadella': 'Microsoft',\n",
        "    'Jeff Bezos': 'Amazon',\n",
        "    'Tim Cook': 'Apple'\n",
        "}"
      ],
      "execution_count": 0,
      "outputs": []
    },
    {
      "cell_type": "markdown",
      "metadata": {
        "id": "iJbVRao-ieqd",
        "colab_type": "text"
      },
      "source": [
        "## **Solutions**"
      ]
    },
    {
      "cell_type": "code",
      "metadata": {
        "id": "tXjr_C-phgzR",
        "colab_type": "code",
        "outputId": "8c46e1c7-b076-4139-831b-0dcc0709e50a",
        "colab": {
          "base_uri": "https://localhost:8080/",
          "height": 119
        }
      },
      "source": [
        "#a\n",
        "for i in x:\n",
        "  if i<6 and i%2==0:\n",
        "    print(i)\n",
        "    \n",
        "print()\n",
        "\n",
        "for key,values in y.items():\n",
        "  print(f'Name:{key}',f' Company:{values}')"
      ],
      "execution_count": 0,
      "outputs": [
        {
          "output_type": "stream",
          "text": [
            "2\n",
            "4\n",
            "\n",
            "Name:Satya Nadella  Company:Microsoft\n",
            "Name:Jeff Bezos  Company:Amazon\n",
            "Name:Tim Cook  Company:Apple\n"
          ],
          "name": "stdout"
        }
      ]
    },
    {
      "cell_type": "code",
      "metadata": {
        "id": "rWlbiYBKiNLX",
        "colab_type": "code",
        "colab": {}
      },
      "source": [
        "\n",
        "# GRADED\n",
        "# Provided below are functions that are completely defined (add_numbers),\n",
        "# partially defined (sub_numbers) and not defined (mult_numbers)\n",
        "# (a) Complete sub_numbers so that it return difference of two numbers\n",
        "# (b) Write a function called mult_numbers to multiply two numbers\n",
        "\n",
        "def add_numbers(a, b):\n",
        "    result = a + b\n",
        "    return result\n",
        "\n",
        "def sub_numbers(a, b):\n",
        "    # Write code to return sum of a and b\n",
        "    result =  a-b #Replace 0 with your code\n",
        "    return result\n",
        "\n",
        "def mult_numbers(a, b):\n",
        "    result = a*b\n",
        "    return result\n",
        "# Uncomment the following when you have done the exercise\n",
        "# a^2-b^2 = (a+b)*(a-b)\n",
        "# e.g 5^2 - 4^2 = (5+4)(5-4) = 9\n",
        "# print(mult_numbers(add_numbers(5,4), sub_numbers(5,4)))\n",
        "# Should print 9"
      ],
      "execution_count": 0,
      "outputs": []
    },
    {
      "cell_type": "code",
      "metadata": {
        "id": "veDcEMVyiXS5",
        "colab_type": "code",
        "outputId": "6ac4e46f-2a30-48dc-f7eb-db35f08c038c",
        "colab": {
          "base_uri": "https://localhost:8080/",
          "height": 34
        }
      },
      "source": [
        "print(mult_numbers(add_numbers(5,4), sub_numbers(5,4)))"
      ],
      "execution_count": 0,
      "outputs": [
        {
          "output_type": "stream",
          "text": [
            "9\n"
          ],
          "name": "stdout"
        }
      ]
    },
    {
      "cell_type": "code",
      "metadata": {
        "id": "qRR6kA-Ui8im",
        "colab_type": "code",
        "colab": {}
      },
      "source": [
        "### GRADED\n",
        "# (a) Determine the shape, number of dimensions and type of \n",
        "# elements in the numpy array arr\n",
        "# (b) Determine the sum of elements in arr\n",
        "# (c) Determine the mean of elements in arr\n",
        "# (d) Create an array of the same shape as arr but filled with zeros\n",
        "# (e) Create an array of the same shape as arr but filled with ones\n",
        "# (f) Create an array of the same shape as arr but where all elements are squared values\n",
        "# (g) Create an array result of shape 3*3 resulting from multiplication of arr with transpose(arr). Hint: use np.dot\n",
        "arr = np.arange(15).reshape(3, 5)"
      ],
      "execution_count": 0,
      "outputs": []
    },
    {
      "cell_type": "code",
      "metadata": {
        "id": "9F0I-ofwjH9Q",
        "colab_type": "code",
        "outputId": "b484c954-8201-40e5-8f7f-cf45230dce29",
        "colab": {
          "base_uri": "https://localhost:8080/",
          "height": 68
        }
      },
      "source": [
        "# elements in the numpy array arr\n",
        "arr"
      ],
      "execution_count": 0,
      "outputs": [
        {
          "output_type": "execute_result",
          "data": {
            "text/plain": [
              "array([[ 0,  1,  2,  3,  4],\n",
              "       [ 5,  6,  7,  8,  9],\n",
              "       [10, 11, 12, 13, 14]])"
            ]
          },
          "metadata": {
            "tags": []
          },
          "execution_count": 10
        }
      ]
    },
    {
      "cell_type": "code",
      "metadata": {
        "id": "lTJ8nAmVjLSw",
        "colab_type": "code",
        "outputId": "067adf30-4beb-4704-8201-65b260d600da",
        "colab": {
          "base_uri": "https://localhost:8080/",
          "height": 68
        }
      },
      "source": [
        "#(a) Determine the shape, number of dimensions and type of \n",
        "print(arr.shape)\n",
        "print(arr.ndim)\n",
        "print(type(arr))"
      ],
      "execution_count": 0,
      "outputs": [
        {
          "output_type": "stream",
          "text": [
            "(3, 5)\n",
            "2\n",
            "<class 'numpy.ndarray'>\n"
          ],
          "name": "stdout"
        }
      ]
    },
    {
      "cell_type": "code",
      "metadata": {
        "id": "R2ec74vQjYeH",
        "colab_type": "code",
        "outputId": "32e2b688-70af-4c98-c966-0563b3e4e6aa",
        "colab": {
          "base_uri": "https://localhost:8080/",
          "height": 34
        }
      },
      "source": [
        "# (b) Determine the sum of elements in arr\n",
        "arr.sum()"
      ],
      "execution_count": 0,
      "outputs": [
        {
          "output_type": "execute_result",
          "data": {
            "text/plain": [
              "105"
            ]
          },
          "metadata": {
            "tags": []
          },
          "execution_count": 11
        }
      ]
    },
    {
      "cell_type": "code",
      "metadata": {
        "id": "5AvbNAa-jiJU",
        "colab_type": "code",
        "outputId": "bc6b2d37-f58c-4357-e5ce-2e51410e3c6d",
        "colab": {
          "base_uri": "https://localhost:8080/",
          "height": 34
        }
      },
      "source": [
        "# (c) Determine the mean of elements in arr\n",
        "arr.mean()"
      ],
      "execution_count": 0,
      "outputs": [
        {
          "output_type": "execute_result",
          "data": {
            "text/plain": [
              "7.0"
            ]
          },
          "metadata": {
            "tags": []
          },
          "execution_count": 12
        }
      ]
    },
    {
      "cell_type": "code",
      "metadata": {
        "id": "6joHOC9FjnDT",
        "colab_type": "code",
        "outputId": "dbd9c710-6e42-491e-b6e0-84a8cc391e53",
        "colab": {
          "base_uri": "https://localhost:8080/",
          "height": 68
        }
      },
      "source": [
        "# (d) Create an array of the same shape as arr but filled with zeros\n",
        "np.zeros(arr.shape)"
      ],
      "execution_count": 0,
      "outputs": [
        {
          "output_type": "execute_result",
          "data": {
            "text/plain": [
              "array([[0., 0., 0., 0., 0.],\n",
              "       [0., 0., 0., 0., 0.],\n",
              "       [0., 0., 0., 0., 0.]])"
            ]
          },
          "metadata": {
            "tags": []
          },
          "execution_count": 14
        }
      ]
    },
    {
      "cell_type": "code",
      "metadata": {
        "id": "s0AHw3Z2jxZq",
        "colab_type": "code",
        "outputId": "7cb4e0a2-a823-4f72-e6c9-6d6d2123df45",
        "colab": {
          "base_uri": "https://localhost:8080/",
          "height": 68
        }
      },
      "source": [
        "# (e) Create an array of the same shape as arr but filled with ones\n",
        "np.ones(arr.shape)"
      ],
      "execution_count": 0,
      "outputs": [
        {
          "output_type": "execute_result",
          "data": {
            "text/plain": [
              "array([[1., 1., 1., 1., 1.],\n",
              "       [1., 1., 1., 1., 1.],\n",
              "       [1., 1., 1., 1., 1.]])"
            ]
          },
          "metadata": {
            "tags": []
          },
          "execution_count": 15
        }
      ]
    },
    {
      "cell_type": "code",
      "metadata": {
        "id": "kSZLUiCYj9TB",
        "colab_type": "code",
        "outputId": "275d5ffd-b11a-4aff-cd1d-845e8bb182c8",
        "colab": {
          "base_uri": "https://localhost:8080/",
          "height": 68
        }
      },
      "source": [
        "# (f) Create an array of the same shape as arr but where all elements are squared values\n",
        "arr**2"
      ],
      "execution_count": 0,
      "outputs": [
        {
          "output_type": "execute_result",
          "data": {
            "text/plain": [
              "array([[  0,   1,   4,   9,  16],\n",
              "       [ 25,  36,  49,  64,  81],\n",
              "       [100, 121, 144, 169, 196]])"
            ]
          },
          "metadata": {
            "tags": []
          },
          "execution_count": 16
        }
      ]
    },
    {
      "cell_type": "code",
      "metadata": {
        "id": "uAgqeqbNkIdh",
        "colab_type": "code",
        "colab": {}
      },
      "source": [
        "# (g) Create an array result of shape 3*3 resulting from multiplication of arr with transpose(arr). Hint: use np.dot\n"
      ],
      "execution_count": 0,
      "outputs": []
    },
    {
      "cell_type": "code",
      "metadata": {
        "id": "28Zdo893kdkY",
        "colab_type": "code",
        "outputId": "c2f8795a-ceb3-42b9-c538-3f53ff280571",
        "colab": {
          "base_uri": "https://localhost:8080/",
          "height": 359
        }
      },
      "source": [
        "### GRADED\n",
        "# The following piece of code creates a DataFrame \n",
        "# (a) Determine the shape of the dataframe\n",
        "# (b) Print out all the columns of the dataframe\n",
        "# (c) Print the 3rd element of the dataframe\n",
        "# (d) Find the average of 'petal_width' where species is 'virginica'\n",
        "# (e) Find the maximum of 'sepal_width' where species is 'setosa'\n",
        "# (f): What is the average value of sepal_length\n",
        "# (g): What is the maximum value of sepal_width\n",
        "# (h): What is the minimum value of petal_width\n",
        "import pandas as pd\n",
        "df = pd.read_csv('https://raw.githubusercontent.com/mwaskom/seaborn-data/master/iris.csv')\n",
        "df.head(10) #prints the first 10 rows"
      ],
      "execution_count": 0,
      "outputs": [
        {
          "output_type": "execute_result",
          "data": {
            "text/html": [
              "<div>\n",
              "<style scoped>\n",
              "    .dataframe tbody tr th:only-of-type {\n",
              "        vertical-align: middle;\n",
              "    }\n",
              "\n",
              "    .dataframe tbody tr th {\n",
              "        vertical-align: top;\n",
              "    }\n",
              "\n",
              "    .dataframe thead th {\n",
              "        text-align: right;\n",
              "    }\n",
              "</style>\n",
              "<table border=\"1\" class=\"dataframe\">\n",
              "  <thead>\n",
              "    <tr style=\"text-align: right;\">\n",
              "      <th></th>\n",
              "      <th>sepal_length</th>\n",
              "      <th>sepal_width</th>\n",
              "      <th>petal_length</th>\n",
              "      <th>petal_width</th>\n",
              "      <th>species</th>\n",
              "    </tr>\n",
              "  </thead>\n",
              "  <tbody>\n",
              "    <tr>\n",
              "      <th>0</th>\n",
              "      <td>5.1</td>\n",
              "      <td>3.5</td>\n",
              "      <td>1.4</td>\n",
              "      <td>0.2</td>\n",
              "      <td>setosa</td>\n",
              "    </tr>\n",
              "    <tr>\n",
              "      <th>1</th>\n",
              "      <td>4.9</td>\n",
              "      <td>3.0</td>\n",
              "      <td>1.4</td>\n",
              "      <td>0.2</td>\n",
              "      <td>setosa</td>\n",
              "    </tr>\n",
              "    <tr>\n",
              "      <th>2</th>\n",
              "      <td>4.7</td>\n",
              "      <td>3.2</td>\n",
              "      <td>1.3</td>\n",
              "      <td>0.2</td>\n",
              "      <td>setosa</td>\n",
              "    </tr>\n",
              "    <tr>\n",
              "      <th>3</th>\n",
              "      <td>4.6</td>\n",
              "      <td>3.1</td>\n",
              "      <td>1.5</td>\n",
              "      <td>0.2</td>\n",
              "      <td>setosa</td>\n",
              "    </tr>\n",
              "    <tr>\n",
              "      <th>4</th>\n",
              "      <td>5.0</td>\n",
              "      <td>3.6</td>\n",
              "      <td>1.4</td>\n",
              "      <td>0.2</td>\n",
              "      <td>setosa</td>\n",
              "    </tr>\n",
              "    <tr>\n",
              "      <th>5</th>\n",
              "      <td>5.4</td>\n",
              "      <td>3.9</td>\n",
              "      <td>1.7</td>\n",
              "      <td>0.4</td>\n",
              "      <td>setosa</td>\n",
              "    </tr>\n",
              "    <tr>\n",
              "      <th>6</th>\n",
              "      <td>4.6</td>\n",
              "      <td>3.4</td>\n",
              "      <td>1.4</td>\n",
              "      <td>0.3</td>\n",
              "      <td>setosa</td>\n",
              "    </tr>\n",
              "    <tr>\n",
              "      <th>7</th>\n",
              "      <td>5.0</td>\n",
              "      <td>3.4</td>\n",
              "      <td>1.5</td>\n",
              "      <td>0.2</td>\n",
              "      <td>setosa</td>\n",
              "    </tr>\n",
              "    <tr>\n",
              "      <th>8</th>\n",
              "      <td>4.4</td>\n",
              "      <td>2.9</td>\n",
              "      <td>1.4</td>\n",
              "      <td>0.2</td>\n",
              "      <td>setosa</td>\n",
              "    </tr>\n",
              "    <tr>\n",
              "      <th>9</th>\n",
              "      <td>4.9</td>\n",
              "      <td>3.1</td>\n",
              "      <td>1.5</td>\n",
              "      <td>0.1</td>\n",
              "      <td>setosa</td>\n",
              "    </tr>\n",
              "  </tbody>\n",
              "</table>\n",
              "</div>"
            ],
            "text/plain": [
              "   sepal_length  sepal_width  petal_length  petal_width species\n",
              "0           5.1          3.5           1.4          0.2  setosa\n",
              "1           4.9          3.0           1.4          0.2  setosa\n",
              "2           4.7          3.2           1.3          0.2  setosa\n",
              "3           4.6          3.1           1.5          0.2  setosa\n",
              "4           5.0          3.6           1.4          0.2  setosa\n",
              "5           5.4          3.9           1.7          0.4  setosa\n",
              "6           4.6          3.4           1.4          0.3  setosa\n",
              "7           5.0          3.4           1.5          0.2  setosa\n",
              "8           4.4          2.9           1.4          0.2  setosa\n",
              "9           4.9          3.1           1.5          0.1  setosa"
            ]
          },
          "metadata": {
            "tags": []
          },
          "execution_count": 17
        }
      ]
    },
    {
      "cell_type": "code",
      "metadata": {
        "id": "m2Z8Dfb3kjXI",
        "colab_type": "code",
        "outputId": "3a590fc5-cf71-4189-a535-a334e537509b",
        "colab": {
          "base_uri": "https://localhost:8080/",
          "height": 34
        }
      },
      "source": [
        "# (a) Determine the shape of the dataframe\n",
        "df.shape"
      ],
      "execution_count": 0,
      "outputs": [
        {
          "output_type": "execute_result",
          "data": {
            "text/plain": [
              "(150, 5)"
            ]
          },
          "metadata": {
            "tags": []
          },
          "execution_count": 18
        }
      ]
    },
    {
      "cell_type": "code",
      "metadata": {
        "id": "ZEbmx6TtksJT",
        "colab_type": "code",
        "outputId": "1b09e1fd-b4c8-4f87-d80f-66da7806da50",
        "colab": {
          "base_uri": "https://localhost:8080/",
          "height": 221
        }
      },
      "source": [
        "# (b) Print out all the columns of the dataframe\n",
        "print('Columns: ',df.columns)\n",
        "print(15*'==')\n",
        "\n",
        "# (c) Print the 3rd element of the dataframe\n",
        "print('3rd Element\\n',df.loc[3])\n",
        "print(15*'==')"
      ],
      "execution_count": 0,
      "outputs": [
        {
          "output_type": "stream",
          "text": [
            "Columns:  Index(['sepal_length', 'sepal_width', 'petal_length', 'petal_width',\n",
            "       'species'],\n",
            "      dtype='object')\n",
            "==============================\n",
            "3rd Element\n",
            " sepal_length       4.6\n",
            "sepal_width        3.1\n",
            "petal_length       1.5\n",
            "petal_width        0.2\n",
            "species         setosa\n",
            "Name: 3, dtype: object\n",
            "==============================\n"
          ],
          "name": "stdout"
        }
      ]
    },
    {
      "cell_type": "code",
      "metadata": {
        "id": "dzWU2j11k-tI",
        "colab_type": "code",
        "outputId": "198f5faf-176a-43dc-f43c-4a91d27242d1",
        "colab": {
          "base_uri": "https://localhost:8080/",
          "height": 204
        }
      },
      "source": [
        "# (d) Find the average of 'petal_width' where species is 'virginica'\n",
        "# (e) Find the maximum of 'sepal_width' where species is 'setosa'\n",
        "# (f): What is the average value of sepal_length\n",
        "# (g): What is the maximum value of sepal_width\n",
        "# (h): What is the minimum value of petal_width\n",
        "\n",
        "df.groupby('species').agg(['min','max','mean'])"
      ],
      "execution_count": 0,
      "outputs": [
        {
          "output_type": "execute_result",
          "data": {
            "text/html": [
              "<div>\n",
              "<style scoped>\n",
              "    .dataframe tbody tr th:only-of-type {\n",
              "        vertical-align: middle;\n",
              "    }\n",
              "\n",
              "    .dataframe tbody tr th {\n",
              "        vertical-align: top;\n",
              "    }\n",
              "\n",
              "    .dataframe thead tr th {\n",
              "        text-align: left;\n",
              "    }\n",
              "\n",
              "    .dataframe thead tr:last-of-type th {\n",
              "        text-align: right;\n",
              "    }\n",
              "</style>\n",
              "<table border=\"1\" class=\"dataframe\">\n",
              "  <thead>\n",
              "    <tr>\n",
              "      <th></th>\n",
              "      <th colspan=\"3\" halign=\"left\">sepal_length</th>\n",
              "      <th colspan=\"3\" halign=\"left\">sepal_width</th>\n",
              "      <th colspan=\"3\" halign=\"left\">petal_length</th>\n",
              "      <th colspan=\"3\" halign=\"left\">petal_width</th>\n",
              "    </tr>\n",
              "    <tr>\n",
              "      <th></th>\n",
              "      <th>min</th>\n",
              "      <th>max</th>\n",
              "      <th>mean</th>\n",
              "      <th>min</th>\n",
              "      <th>max</th>\n",
              "      <th>mean</th>\n",
              "      <th>min</th>\n",
              "      <th>max</th>\n",
              "      <th>mean</th>\n",
              "      <th>min</th>\n",
              "      <th>max</th>\n",
              "      <th>mean</th>\n",
              "    </tr>\n",
              "    <tr>\n",
              "      <th>species</th>\n",
              "      <th></th>\n",
              "      <th></th>\n",
              "      <th></th>\n",
              "      <th></th>\n",
              "      <th></th>\n",
              "      <th></th>\n",
              "      <th></th>\n",
              "      <th></th>\n",
              "      <th></th>\n",
              "      <th></th>\n",
              "      <th></th>\n",
              "      <th></th>\n",
              "    </tr>\n",
              "  </thead>\n",
              "  <tbody>\n",
              "    <tr>\n",
              "      <th>setosa</th>\n",
              "      <td>4.3</td>\n",
              "      <td>5.8</td>\n",
              "      <td>5.006</td>\n",
              "      <td>2.3</td>\n",
              "      <td>4.4</td>\n",
              "      <td>3.428</td>\n",
              "      <td>1.0</td>\n",
              "      <td>1.9</td>\n",
              "      <td>1.462</td>\n",
              "      <td>0.1</td>\n",
              "      <td>0.6</td>\n",
              "      <td>0.246</td>\n",
              "    </tr>\n",
              "    <tr>\n",
              "      <th>versicolor</th>\n",
              "      <td>4.9</td>\n",
              "      <td>7.0</td>\n",
              "      <td>5.936</td>\n",
              "      <td>2.0</td>\n",
              "      <td>3.4</td>\n",
              "      <td>2.770</td>\n",
              "      <td>3.0</td>\n",
              "      <td>5.1</td>\n",
              "      <td>4.260</td>\n",
              "      <td>1.0</td>\n",
              "      <td>1.8</td>\n",
              "      <td>1.326</td>\n",
              "    </tr>\n",
              "    <tr>\n",
              "      <th>virginica</th>\n",
              "      <td>4.9</td>\n",
              "      <td>7.9</td>\n",
              "      <td>6.588</td>\n",
              "      <td>2.2</td>\n",
              "      <td>3.8</td>\n",
              "      <td>2.974</td>\n",
              "      <td>4.5</td>\n",
              "      <td>6.9</td>\n",
              "      <td>5.552</td>\n",
              "      <td>1.4</td>\n",
              "      <td>2.5</td>\n",
              "      <td>2.026</td>\n",
              "    </tr>\n",
              "  </tbody>\n",
              "</table>\n",
              "</div>"
            ],
            "text/plain": [
              "           sepal_length             sepal_width  ... petal_length petal_width            \n",
              "                    min  max   mean         min  ...         mean         min  max   mean\n",
              "species                                          ...                                     \n",
              "setosa              4.3  5.8  5.006         2.3  ...        1.462         0.1  0.6  0.246\n",
              "versicolor          4.9  7.0  5.936         2.0  ...        4.260         1.0  1.8  1.326\n",
              "virginica           4.9  7.9  6.588         2.2  ...        5.552         1.4  2.5  2.026\n",
              "\n",
              "[3 rows x 12 columns]"
            ]
          },
          "metadata": {
            "tags": []
          },
          "execution_count": 37
        }
      ]
    },
    {
      "cell_type": "code",
      "metadata": {
        "id": "RaB0cy7Cmlbd",
        "colab_type": "code",
        "colab": {}
      },
      "source": [
        ""
      ],
      "execution_count": 0,
      "outputs": []
    }
  ]
}